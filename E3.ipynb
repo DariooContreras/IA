{
  "nbformat": 4,
  "nbformat_minor": 0,
  "metadata": {
    "colab": {
      "provenance": []
    },
    "kernelspec": {
      "name": "python3",
      "display_name": "Python 3"
    },
    "language_info": {
      "name": "python"
    }
  },
  "cells": [
    {
      "cell_type": "code",
      "execution_count": 3,
      "metadata": {
        "colab": {
          "base_uri": "https://localhost:8080/"
        },
        "id": "p9rsPhHG10bB",
        "outputId": "b09fdf81-e0a2-4cea-c5f8-a7ad1c14e224"
      },
      "outputs": [
        {
          "output_type": "stream",
          "name": "stdout",
          "text": [
            "Guess the Number\n",
            "Select a number between 1 and 100. ?\n",
            "Enter your guess: 5\n",
            "Try guessing a higher number.\n",
            "Enter your guess: 50\n",
            "Try guessing a lower number.\n",
            "Enter your guess: 40\n",
            "Try guessing a lower number.\n",
            "Enter your guess: 30\n",
            "Try guessing a lower number.\n",
            "Enter your guess: 20\n",
            "Try guessing a lower number.\n",
            "Enter your guess: 15\n",
            "Try guessing a lower number.\n",
            "Enter your guess: 10\n",
            "Try guessing a higher number.\n",
            "Enter your guess: 13\n",
            "Try guessing a lower number.\n",
            "Enter your guess: 12\n",
            "Try guessing a lower number.\n",
            "Enter your guess: 11\n",
            "You guessed the number 11 in 10 attempts.\n"
          ]
        }
      ],
      "source": [
        "import random\n",
        "\n",
        "def guess_the_number():\n",
        "    target_number = random.randint(1, 100)\n",
        "    attempts = 0\n",
        "\n",
        "    print(\"Guess the Number\")\n",
        "    print(\"Select a number between 1 and 100. ?\")\n",
        "\n",
        "    while True:\n",
        "        user_guess = int(input(\"Enter your guess: \"))\n",
        "        attempts += 1\n",
        "\n",
        "        if user_guess < target_number:\n",
        "            print(\"Try guessing a higher number.\")\n",
        "        elif user_guess > target_number:\n",
        "            print(\"Try guessing a lower number.\")\n",
        "        else:\n",
        "            print(f\"\n",
        "            You guessed the number {target_number} in {attempts} attempts.\")\n",
        "            break\n",
        "\n",
        "if __name__ == \"__main__\":\n",
        "    guess_the_number()\n",
        "\n"
      ]
    }
  ]
}