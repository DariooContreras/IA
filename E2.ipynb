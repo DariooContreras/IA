{
  "nbformat": 4,
  "nbformat_minor": 0,
  "metadata": {
    "colab": {
      "provenance": []
    },
    "kernelspec": {
      "name": "python3",
      "display_name": "Python 3"
    },
    "language_info": {
      "name": "python"
    }
  },
  "cells": [
    {
      "cell_type": "code",
      "execution_count": 2,
      "metadata": {
        "colab": {
          "base_uri": "https://localhost:8080/"
        },
        "id": "p9rsPhHG10bB",
        "outputId": "4fdc3395-a4cd-4d25-f93a-226593773a77"
      },
      "outputs": [
        {
          "output_type": "stream",
          "name": "stdout",
          "text": [
            "Welcome to Hangman!\n",
            "Try to guess the word.\n",
            "\n",
            "Attempts left: 6\n",
            "Guessed letters: \n",
            "Current word: _ _ _ _ _ _\n",
            "Enter a letter: r\n",
            "\n",
            "Attempts left: 5\n",
            "Guessed letters: r\n",
            "Current word: _ _ _ _ _ _\n",
            "Enter a letter: e\n",
            "\n",
            "Attempts left: 5\n",
            "Guessed letters: r e\n",
            "Current word: _ e _ _ _ _\n",
            "Enter a letter: d\n",
            "\n",
            "Attempts left: 4\n",
            "Guessed letters: r e d\n",
            "Current word: _ e _ _ _ _\n",
            "Enter a letter: y\n",
            "\n",
            "Attempts left: 4\n",
            "Guessed letters: r e d y\n",
            "Current word: y e _ _ _ _\n",
            "Enter a letter: l\n",
            "\n",
            "Attempts left: 4\n",
            "Guessed letters: r e d y l\n",
            "Current word: y e l l _ _\n",
            "Enter a letter: o\n",
            "\n",
            "Attempts left: 4\n",
            "Guessed letters: r e d y l o\n",
            "Current word: y e l l o _\n",
            "Enter a letter: w\n",
            "Congratulations! You guessed the word: yellow\n"
          ]
        }
      ],
      "source": [
        "import random\n",
        "\n",
        "# Predefined list of words\n",
        "word_list = ['red', 'blue', 'green', 'yellow', 'orange']\n",
        "\n",
        "def select_random_word():\n",
        "    return random.choice(word_list)\n",
        "\n",
        "def display_word(word, guessed_letters):\n",
        "    displayed_word = ''\n",
        "    for letter in word:\n",
        "        if letter in guessed_letters:\n",
        "            displayed_word += letter + ' '\n",
        "        else:\n",
        "            displayed_word += '_ '\n",
        "    return displayed_word.strip()\n",
        "\n",
        "def hangman():\n",
        "    max_attempts = 6\n",
        "    attempts = 0\n",
        "    guessed_letters = []\n",
        "    word_to_guess = select_random_word()\n",
        "\n",
        "    print(\"Welcome to Hangman!\")\n",
        "    print(\"Try to guess the word.\")\n",
        "\n",
        "    while attempts < max_attempts:\n",
        "        print(\"\\nAttempts left:\", max_attempts - attempts)\n",
        "        print(\"Guessed letters:\", ' '.join(guessed_letters))\n",
        "        print(\"Current word:\", display_word(word_to_guess, guessed_letters))\n",
        "\n",
        "        guess = input(\"Enter a letter: \").lower()\n",
        "\n",
        "        if len(guess) != 1 or not guess.isalpha():\n",
        "            print(\"Please enter a valid single letter.\")\n",
        "            continue\n",
        "\n",
        "        if guess in guessed_letters:\n",
        "            print(\"You already guessed that letter.\")\n",
        "            continue\n",
        "\n",
        "        guessed_letters.append(guess)\n",
        "\n",
        "        if guess not in word_to_guess:\n",
        "            attempts += 1\n",
        "\n",
        "        if all(letter in guessed_letters for letter in word_to_guess):\n",
        "            print(\"Congratulations! You guessed the word:\", word_to_guess)\n",
        "            return\n",
        "\n",
        "    print(\"You ran out of attempts. The word was:\", word_to_guess)\n",
        "\n",
        "if __name__ == \"__main__\":\n",
        "    hangman()\n"
      ]
    }
  ]
}