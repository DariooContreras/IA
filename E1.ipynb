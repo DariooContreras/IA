{
  "nbformat": 4,
  "nbformat_minor": 0,
  "metadata": {
    "colab": {
      "provenance": []
    },
    "kernelspec": {
      "name": "python3",
      "display_name": "Python 3"
    },
    "language_info": {
      "name": "python"
    }
  },
  "cells": [
    {
      "cell_type": "code",
      "execution_count": null,
      "metadata": {
        "id": "p9rsPhHG10bB"
      },
      "outputs": [],
      "source": [
        "import string\n",
        "from collections import Counter\n",
        "import re\n",
        "\n",
        "def count_words(text):\n",
        "    words = text.split()\n",
        "    return len(words)\n",
        "\n",
        "def count_sentences(text):\n",
        "    sentences = re.split(r'(?<=[.!?]) +', text)\n",
        "    return len(sentences)\n",
        "\n",
        "def count_paragraphs(text):\n",
        "    paragraphs = text.split('\\n\\n')\n",
        "    return len(paragraphs)\n",
        "\n",
        "def average_word_length(text):\n",
        "    words = text.split()\n",
        "    total_word_length = sum(len(word) for word in words)\n",
        "    return total_word_length / len(words) if len(words) > 0 else 0\n",
        "\n",
        "def most_common_words(text, n=5):\n",
        "    words = text.lower().translate(str.maketrans(\"\", \"\", string.punctuation)).split()\n",
        "    word_counts = Counter(words)\n",
        "    return word_counts.most_common(n)\n",
        "\n",
        "def analyze_text(text):\n",
        "    num_words = count_words(text)\n",
        "    num_sentences = count_sentences(text)\n",
        "    num_paragraphs = count_paragraphs(text)\n",
        "    avg_word_length = average_word_length(text)\n",
        "    common_words = most_common_words(text)\n",
        "\n",
        "    print(\"Number of words:\", num_words)\n",
        "    print(\"Number of sentences:\", num_sentences)\n",
        "    print(\"Number of paragraphs:\", num_paragraphs)\n",
        "    print(\"Average word length:\", avg_word_length)\n",
        "    print(\"Most common words:\")\n",
        "    for word, frequency in common_words:\n",
        "        print(f\"{word}: {frequency}\")\n",
        "\n",
        "#Change filename to the file name we want to work with\n",
        "   analyze_text('filename.txt')\n"
      ]
    }
  ]
}